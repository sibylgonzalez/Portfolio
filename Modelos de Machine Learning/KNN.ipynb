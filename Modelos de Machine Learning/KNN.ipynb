{
  "cells": [
    {
      "cell_type": "markdown",
      "metadata": {
        "id": "EIEqMA11_IJ2"
      },
      "source": [
        "Ejercicio KNN\n"
      ]
    },
    {
      "cell_type": "code",
      "execution_count": 4,
      "metadata": {
        "colab": {
          "base_uri": "https://localhost:8080/",
          "height": 424
        },
        "id": "ubXa96Bx_IJ-",
        "outputId": "9aea4062-ca80-40ed-89cd-c20ea383841e"
      },
      "outputs": [
        {
          "output_type": "execute_result",
          "data": {
            "text/plain": [
              "     edad  credito  cumplio\n",
              "0      18   363112        0\n",
              "1      19   477965        1\n",
              "2      20   239072        0\n",
              "3      22   195265        0\n",
              "4      22   482174        0\n",
              "..    ...      ...      ...\n",
              "195    55   100000        0\n",
              "196    55   523144        0\n",
              "197    55   543771        0\n",
              "198    56   285288        0\n",
              "199    57   422969        0\n",
              "\n",
              "[200 rows x 3 columns]"
            ],
            "text/html": [
              "\n",
              "  <div id=\"df-2d053219-6716-49a9-a77b-c812f2b8d8a9\" class=\"colab-df-container\">\n",
              "    <div>\n",
              "<style scoped>\n",
              "    .dataframe tbody tr th:only-of-type {\n",
              "        vertical-align: middle;\n",
              "    }\n",
              "\n",
              "    .dataframe tbody tr th {\n",
              "        vertical-align: top;\n",
              "    }\n",
              "\n",
              "    .dataframe thead th {\n",
              "        text-align: right;\n",
              "    }\n",
              "</style>\n",
              "<table border=\"1\" class=\"dataframe\">\n",
              "  <thead>\n",
              "    <tr style=\"text-align: right;\">\n",
              "      <th></th>\n",
              "      <th>edad</th>\n",
              "      <th>credito</th>\n",
              "      <th>cumplio</th>\n",
              "    </tr>\n",
              "  </thead>\n",
              "  <tbody>\n",
              "    <tr>\n",
              "      <th>0</th>\n",
              "      <td>18</td>\n",
              "      <td>363112</td>\n",
              "      <td>0</td>\n",
              "    </tr>\n",
              "    <tr>\n",
              "      <th>1</th>\n",
              "      <td>19</td>\n",
              "      <td>477965</td>\n",
              "      <td>1</td>\n",
              "    </tr>\n",
              "    <tr>\n",
              "      <th>2</th>\n",
              "      <td>20</td>\n",
              "      <td>239072</td>\n",
              "      <td>0</td>\n",
              "    </tr>\n",
              "    <tr>\n",
              "      <th>3</th>\n",
              "      <td>22</td>\n",
              "      <td>195265</td>\n",
              "      <td>0</td>\n",
              "    </tr>\n",
              "    <tr>\n",
              "      <th>4</th>\n",
              "      <td>22</td>\n",
              "      <td>482174</td>\n",
              "      <td>0</td>\n",
              "    </tr>\n",
              "    <tr>\n",
              "      <th>...</th>\n",
              "      <td>...</td>\n",
              "      <td>...</td>\n",
              "      <td>...</td>\n",
              "    </tr>\n",
              "    <tr>\n",
              "      <th>195</th>\n",
              "      <td>55</td>\n",
              "      <td>100000</td>\n",
              "      <td>0</td>\n",
              "    </tr>\n",
              "    <tr>\n",
              "      <th>196</th>\n",
              "      <td>55</td>\n",
              "      <td>523144</td>\n",
              "      <td>0</td>\n",
              "    </tr>\n",
              "    <tr>\n",
              "      <th>197</th>\n",
              "      <td>55</td>\n",
              "      <td>543771</td>\n",
              "      <td>0</td>\n",
              "    </tr>\n",
              "    <tr>\n",
              "      <th>198</th>\n",
              "      <td>56</td>\n",
              "      <td>285288</td>\n",
              "      <td>0</td>\n",
              "    </tr>\n",
              "    <tr>\n",
              "      <th>199</th>\n",
              "      <td>57</td>\n",
              "      <td>422969</td>\n",
              "      <td>0</td>\n",
              "    </tr>\n",
              "  </tbody>\n",
              "</table>\n",
              "<p>200 rows × 3 columns</p>\n",
              "</div>\n",
              "    <div class=\"colab-df-buttons\">\n",
              "\n",
              "  <div class=\"colab-df-container\">\n",
              "    <button class=\"colab-df-convert\" onclick=\"convertToInteractive('df-2d053219-6716-49a9-a77b-c812f2b8d8a9')\"\n",
              "            title=\"Convert this dataframe to an interactive table.\"\n",
              "            style=\"display:none;\">\n",
              "\n",
              "  <svg xmlns=\"http://www.w3.org/2000/svg\" height=\"24px\" viewBox=\"0 -960 960 960\">\n",
              "    <path d=\"M120-120v-720h720v720H120Zm60-500h600v-160H180v160Zm220 220h160v-160H400v160Zm0 220h160v-160H400v160ZM180-400h160v-160H180v160Zm440 0h160v-160H620v160ZM180-180h160v-160H180v160Zm440 0h160v-160H620v160Z\"/>\n",
              "  </svg>\n",
              "    </button>\n",
              "\n",
              "  <style>\n",
              "    .colab-df-container {\n",
              "      display:flex;\n",
              "      gap: 12px;\n",
              "    }\n",
              "\n",
              "    .colab-df-convert {\n",
              "      background-color: #E8F0FE;\n",
              "      border: none;\n",
              "      border-radius: 50%;\n",
              "      cursor: pointer;\n",
              "      display: none;\n",
              "      fill: #1967D2;\n",
              "      height: 32px;\n",
              "      padding: 0 0 0 0;\n",
              "      width: 32px;\n",
              "    }\n",
              "\n",
              "    .colab-df-convert:hover {\n",
              "      background-color: #E2EBFA;\n",
              "      box-shadow: 0px 1px 2px rgba(60, 64, 67, 0.3), 0px 1px 3px 1px rgba(60, 64, 67, 0.15);\n",
              "      fill: #174EA6;\n",
              "    }\n",
              "\n",
              "    .colab-df-buttons div {\n",
              "      margin-bottom: 4px;\n",
              "    }\n",
              "\n",
              "    [theme=dark] .colab-df-convert {\n",
              "      background-color: #3B4455;\n",
              "      fill: #D2E3FC;\n",
              "    }\n",
              "\n",
              "    [theme=dark] .colab-df-convert:hover {\n",
              "      background-color: #434B5C;\n",
              "      box-shadow: 0px 1px 3px 1px rgba(0, 0, 0, 0.15);\n",
              "      filter: drop-shadow(0px 1px 2px rgba(0, 0, 0, 0.3));\n",
              "      fill: #FFFFFF;\n",
              "    }\n",
              "  </style>\n",
              "\n",
              "    <script>\n",
              "      const buttonEl =\n",
              "        document.querySelector('#df-2d053219-6716-49a9-a77b-c812f2b8d8a9 button.colab-df-convert');\n",
              "      buttonEl.style.display =\n",
              "        google.colab.kernel.accessAllowed ? 'block' : 'none';\n",
              "\n",
              "      async function convertToInteractive(key) {\n",
              "        const element = document.querySelector('#df-2d053219-6716-49a9-a77b-c812f2b8d8a9');\n",
              "        const dataTable =\n",
              "          await google.colab.kernel.invokeFunction('convertToInteractive',\n",
              "                                                    [key], {});\n",
              "        if (!dataTable) return;\n",
              "\n",
              "        const docLinkHtml = 'Like what you see? Visit the ' +\n",
              "          '<a target=\"_blank\" href=https://colab.research.google.com/notebooks/data_table.ipynb>data table notebook</a>'\n",
              "          + ' to learn more about interactive tables.';\n",
              "        element.innerHTML = '';\n",
              "        dataTable['output_type'] = 'display_data';\n",
              "        await google.colab.output.renderOutput(dataTable, element);\n",
              "        const docLink = document.createElement('div');\n",
              "        docLink.innerHTML = docLinkHtml;\n",
              "        element.appendChild(docLink);\n",
              "      }\n",
              "    </script>\n",
              "  </div>\n",
              "\n",
              "\n",
              "<div id=\"df-1c1f3290-a365-49a8-bcb9-73bc4c33f911\">\n",
              "  <button class=\"colab-df-quickchart\" onclick=\"quickchart('df-1c1f3290-a365-49a8-bcb9-73bc4c33f911')\"\n",
              "            title=\"Suggest charts\"\n",
              "            style=\"display:none;\">\n",
              "\n",
              "<svg xmlns=\"http://www.w3.org/2000/svg\" height=\"24px\"viewBox=\"0 0 24 24\"\n",
              "     width=\"24px\">\n",
              "    <g>\n",
              "        <path d=\"M19 3H5c-1.1 0-2 .9-2 2v14c0 1.1.9 2 2 2h14c1.1 0 2-.9 2-2V5c0-1.1-.9-2-2-2zM9 17H7v-7h2v7zm4 0h-2V7h2v10zm4 0h-2v-4h2v4z\"/>\n",
              "    </g>\n",
              "</svg>\n",
              "  </button>\n",
              "\n",
              "<style>\n",
              "  .colab-df-quickchart {\n",
              "      --bg-color: #E8F0FE;\n",
              "      --fill-color: #1967D2;\n",
              "      --hover-bg-color: #E2EBFA;\n",
              "      --hover-fill-color: #174EA6;\n",
              "      --disabled-fill-color: #AAA;\n",
              "      --disabled-bg-color: #DDD;\n",
              "  }\n",
              "\n",
              "  [theme=dark] .colab-df-quickchart {\n",
              "      --bg-color: #3B4455;\n",
              "      --fill-color: #D2E3FC;\n",
              "      --hover-bg-color: #434B5C;\n",
              "      --hover-fill-color: #FFFFFF;\n",
              "      --disabled-bg-color: #3B4455;\n",
              "      --disabled-fill-color: #666;\n",
              "  }\n",
              "\n",
              "  .colab-df-quickchart {\n",
              "    background-color: var(--bg-color);\n",
              "    border: none;\n",
              "    border-radius: 50%;\n",
              "    cursor: pointer;\n",
              "    display: none;\n",
              "    fill: var(--fill-color);\n",
              "    height: 32px;\n",
              "    padding: 0;\n",
              "    width: 32px;\n",
              "  }\n",
              "\n",
              "  .colab-df-quickchart:hover {\n",
              "    background-color: var(--hover-bg-color);\n",
              "    box-shadow: 0 1px 2px rgba(60, 64, 67, 0.3), 0 1px 3px 1px rgba(60, 64, 67, 0.15);\n",
              "    fill: var(--button-hover-fill-color);\n",
              "  }\n",
              "\n",
              "  .colab-df-quickchart-complete:disabled,\n",
              "  .colab-df-quickchart-complete:disabled:hover {\n",
              "    background-color: var(--disabled-bg-color);\n",
              "    fill: var(--disabled-fill-color);\n",
              "    box-shadow: none;\n",
              "  }\n",
              "\n",
              "  .colab-df-spinner {\n",
              "    border: 2px solid var(--fill-color);\n",
              "    border-color: transparent;\n",
              "    border-bottom-color: var(--fill-color);\n",
              "    animation:\n",
              "      spin 1s steps(1) infinite;\n",
              "  }\n",
              "\n",
              "  @keyframes spin {\n",
              "    0% {\n",
              "      border-color: transparent;\n",
              "      border-bottom-color: var(--fill-color);\n",
              "      border-left-color: var(--fill-color);\n",
              "    }\n",
              "    20% {\n",
              "      border-color: transparent;\n",
              "      border-left-color: var(--fill-color);\n",
              "      border-top-color: var(--fill-color);\n",
              "    }\n",
              "    30% {\n",
              "      border-color: transparent;\n",
              "      border-left-color: var(--fill-color);\n",
              "      border-top-color: var(--fill-color);\n",
              "      border-right-color: var(--fill-color);\n",
              "    }\n",
              "    40% {\n",
              "      border-color: transparent;\n",
              "      border-right-color: var(--fill-color);\n",
              "      border-top-color: var(--fill-color);\n",
              "    }\n",
              "    60% {\n",
              "      border-color: transparent;\n",
              "      border-right-color: var(--fill-color);\n",
              "    }\n",
              "    80% {\n",
              "      border-color: transparent;\n",
              "      border-right-color: var(--fill-color);\n",
              "      border-bottom-color: var(--fill-color);\n",
              "    }\n",
              "    90% {\n",
              "      border-color: transparent;\n",
              "      border-bottom-color: var(--fill-color);\n",
              "    }\n",
              "  }\n",
              "</style>\n",
              "\n",
              "  <script>\n",
              "    async function quickchart(key) {\n",
              "      const quickchartButtonEl =\n",
              "        document.querySelector('#' + key + ' button');\n",
              "      quickchartButtonEl.disabled = true;  // To prevent multiple clicks.\n",
              "      quickchartButtonEl.classList.add('colab-df-spinner');\n",
              "      try {\n",
              "        const charts = await google.colab.kernel.invokeFunction(\n",
              "            'suggestCharts', [key], {});\n",
              "      } catch (error) {\n",
              "        console.error('Error during call to suggestCharts:', error);\n",
              "      }\n",
              "      quickchartButtonEl.classList.remove('colab-df-spinner');\n",
              "      quickchartButtonEl.classList.add('colab-df-quickchart-complete');\n",
              "    }\n",
              "    (() => {\n",
              "      let quickchartButtonEl =\n",
              "        document.querySelector('#df-1c1f3290-a365-49a8-bcb9-73bc4c33f911 button');\n",
              "      quickchartButtonEl.style.display =\n",
              "        google.colab.kernel.accessAllowed ? 'block' : 'none';\n",
              "    })();\n",
              "  </script>\n",
              "</div>\n",
              "    </div>\n",
              "  </div>\n"
            ]
          },
          "metadata": {},
          "execution_count": 4
        }
      ],
      "source": [
        "#Importar librerias\n",
        "\n",
        "\n",
        "\n",
        "import pandas as pd\n",
        "import numpy as np\n",
        "import matplotlib.pyplot as plt\n",
        "import seaborn as sns\n",
        "from sklearn import preprocessing\n",
        "from sklearn.neighbors import KNeighborsClassifier\n",
        "import warnings\n",
        "from sklearn.preprocessing import MinMaxScaler\n",
        "\n",
        "from sklearn.model_selection import train_test_split\n",
        "\n",
        "# Ignorar todos los warnings\n",
        "warnings.filterwarnings(\"ignore\")\n",
        "\n",
        "df = pd.read_csv(\"/content/creditos.csv\")\n",
        "df\n",
        "\n"
      ]
    },
    {
      "cell_type": "markdown",
      "metadata": {
        "id": "Dips0BDQ_IKC"
      },
      "source": [
        "Este es un dataset de ejemplo donde se observan los clientes por edad y si cumplieron o no el crédito.\n",
        "El objetivo es determinar si es base a los vecinos una persona va a pagar o no va a pagar el crédito.\n",
        "Como primer paso se separanlos datos entre clientes que si pagaron y clientes que no pagaron de la siguiente manera:"
      ]
    },
    {
      "cell_type": "code",
      "execution_count": 5,
      "metadata": {
        "colab": {
          "base_uri": "https://localhost:8080/"
        },
        "id": "OL7ABzpV_IKF",
        "outputId": "bab4aa78-8da8-47ce-d6da-b284696ef8b0"
      },
      "outputs": [
        {
          "output_type": "execute_result",
          "data": {
            "text/plain": [
              "(     edad  credito  cumplio\n",
              " 1      19   477965        1\n",
              " 6      23   583565        1\n",
              " 7      24   100000        1\n",
              " 8      24   199272        1\n",
              " 13     25   195341        1\n",
              " ..    ...      ...      ...\n",
              " 187    51   354045        1\n",
              " 188    51   379188        1\n",
              " 189    51   396544        1\n",
              " 190    52   100000        1\n",
              " 192    53   130475        1\n",
              " \n",
              " [167 rows x 3 columns],\n",
              "      edad  credito  cumplio\n",
              " 0      18   363112        0\n",
              " 2      20   239072        0\n",
              " 3      22   195265        0\n",
              " 4      22   482174        0\n",
              " 5      23   468815        0\n",
              " 9      24   246195        0\n",
              " 10     24   433444        0\n",
              " 11     25   100000        0\n",
              " 12     25   161474        0\n",
              " 40     28   432323        0\n",
              " 53     29   590394        0\n",
              " 54     29   595997        0\n",
              " 56     30   157157        0\n",
              " 64     31   173752        0\n",
              " 78     32   588455        0\n",
              " 93     35   521187        0\n",
              " 97     36   568053        0\n",
              " 98     37   299154        0\n",
              " 113    40   100000        0\n",
              " 118    40   459974        0\n",
              " 135    43   498315        0\n",
              " 146    44   486320        0\n",
              " 149    45   111178        0\n",
              " 160    46   596771        0\n",
              " 185    50   414624        0\n",
              " 191    52   341763        0\n",
              " 193    53   383222        0\n",
              " 194    54   275759        0\n",
              " 195    55   100000        0\n",
              " 196    55   523144        0\n",
              " 197    55   543771        0\n",
              " 198    56   285288        0\n",
              " 199    57   422969        0)"
            ]
          },
          "metadata": {},
          "execution_count": 5
        }
      ],
      "source": [
        "#Aplico un filtro donde llamo good_clients a quienes si pagaron y bad_clients a quienes no pagaron\n",
        "good_clients = df[df[\"cumplio\"] ==1]\n",
        "bad_clients = df[df[\"cumplio\"]==0]\n",
        "good_clients, bad_clients"
      ]
    },
    {
      "cell_type": "code",
      "execution_count": 6,
      "metadata": {
        "colab": {
          "base_uri": "https://localhost:8080/",
          "height": 449
        },
        "id": "gUXpnltG_IKI",
        "outputId": "cf056f1a-fe45-4494-f654-677e0503f8eb"
      },
      "outputs": [
        {
          "output_type": "display_data",
          "data": {
            "text/plain": [
              "<Figure size 640x480 with 1 Axes>"
            ],
            "image/png": "[encoded data removed]"
          },
          "metadata": {}
        }
      ],
      "source": [
        "#Realizo una gráfica de dispersion para visualizar como se comportan los datos:\n",
        "#una gráfica para visualizar los clientes buenos por edad y el monto del crédito,\n",
        "#así como los clientes malos y los mismos datos anteriores.\n",
        "\n",
        "\n",
        "\n",
        "plt.scatter(good_clients[\"edad\"], good_clients[\"credito\"],\n",
        "            marker=\"*\", s=150, color=\"skyblue\",\n",
        "            label=\"Sí pagó (Clase: 1)\")\n",
        "\n",
        "plt.scatter(bad_clients[\"edad\"], bad_clients[\"credito\"],\n",
        "            marker=\"*\", s=150, color=\"red\",\n",
        "            label=\"No pagó (Clase: 0)\")\n",
        "\n",
        "plt.ylabel(\"Monto del crédito\")\n",
        "plt.xlabel(\"Edad\")\n",
        "plt.legend(bbox_to_anchor=(1, 0.2))\n",
        "plt.show()\n",
        "\n"
      ]
    },
    {
      "cell_type": "markdown",
      "metadata": {
        "id": "570_41CB_IKK"
      },
      "source": [
        "Procesamiento de datos  "
      ]
    },
    {
      "cell_type": "code",
      "execution_count": 7,
      "metadata": {
        "id": "rE_XZPFQ_IKL"
      },
      "outputs": [],
      "source": [
        "X= df[[\"edad\", \"credito\"]]\n",
        "y = df[\"cumplio\"] #Esta clase guia la construcción del modelo\n",
        "\n",
        "escalador = preprocessing.MinMaxScaler() #los numeros mas pequeños los hace 0 y los mas grandes los hace 1\n",
        "\n",
        "\n",
        "X = escalador.fit_transform(X)"
      ]
    },
    {
      "cell_type": "code",
      "execution_count": 8,
      "metadata": {
        "colab": {
          "base_uri": "https://localhost:8080/"
        },
        "id": "MqjqUvgC_IKM",
        "outputId": "cd338b6f-700e-44df-9963-ee15717521fa"
      },
      "outputs": [
        {
          "output_type": "execute_result",
          "data": {
            "text/plain": [
              "array([[0.        , 0.52964444],\n",
              "       [0.02564103, 0.76084353],\n",
              "       [0.05128205, 0.27995193],\n",
              "       [0.1025641 , 0.19176844],\n",
              "       [0.1025641 , 0.76931624],\n",
              "       [0.12820513, 0.74242458],\n",
              "       [0.12820513, 0.97341632],\n",
              "       [0.15384615, 0.        ],\n",
              "       [0.15384615, 0.19983453],\n",
              "       [0.15384615, 0.29429053],\n",
              "       [0.15384615, 0.67122276],\n",
              "       [0.17948718, 0.        ],\n",
              "       [0.17948718, 0.12374716],\n",
              "       [0.17948718, 0.19192143],\n",
              "       [0.17948718, 0.76130249],\n",
              "       [0.17948718, 0.79673129],\n",
              "       [0.20512821, 0.        ],\n",
              "       [0.20512821, 0.21862589],\n",
              "       [0.20512821, 0.33577846],\n",
              "       [0.20512821, 0.35571521],\n",
              "       [0.20512821, 0.38628463],\n",
              "       [0.20512821, 0.61926119],\n",
              "       [0.20512821, 0.69480706],\n",
              "       [0.23076923, 0.21664509],\n",
              "       [0.23076923, 0.23805134],\n",
              "       [0.23076923, 0.60140789],\n",
              "       [0.23076923, 0.90058196],\n",
              "       [0.25641026, 0.        ],\n",
              "       [0.25641026, 0.03816245],\n",
              "       [0.25641026, 0.03904616],\n",
              "       [0.25641026, 0.10798336],\n",
              "       [0.25641026, 0.17607107],\n",
              "       [0.25641026, 0.28867627],\n",
              "       [0.25641026, 0.32202564],\n",
              "       [0.25641026, 0.3484986 ],\n",
              "       [0.25641026, 0.35193882],\n",
              "       [0.25641026, 0.38080524],\n",
              "       [0.25641026, 0.42070089],\n",
              "       [0.25641026, 0.51803547],\n",
              "       [0.25641026, 0.65311582],\n",
              "       [0.25641026, 0.66896618],\n",
              "       [0.25641026, 0.67041756],\n",
              "       [0.25641026, 0.68417239],\n",
              "       [0.25641026, 0.7695256 ],\n",
              "       [0.25641026, 0.86175924],\n",
              "       [0.28205128, 0.        ],\n",
              "       [0.28205128, 0.        ],\n",
              "       [0.28205128, 0.23669256],\n",
              "       [0.28205128, 0.33414591],\n",
              "       [0.28205128, 0.41334538],\n",
              "       [0.28205128, 0.52864197],\n",
              "       [0.28205128, 0.56609383],\n",
              "       [0.28205128, 0.59165692],\n",
              "       [0.28205128, 0.9871631 ],\n",
              "       [0.28205128, 0.99844194],\n",
              "       [0.30769231, 0.10506249],\n",
              "       [0.30769231, 0.11505704],\n",
              "       [0.30769231, 0.23968187],\n",
              "       [0.30769231, 0.46505734],\n",
              "       [0.30769231, 0.5445809 ],\n",
              "       [0.30769231, 0.66118393],\n",
              "       [0.30769231, 0.67767643],\n",
              "       [0.33333333, 0.        ],\n",
              "       [0.33333333, 0.00144131],\n",
              "       [0.33333333, 0.14846277],\n",
              "       [0.33333333, 0.15601555],\n",
              "       [0.33333333, 0.41040238],\n",
              "       [0.33333333, 0.41226239],\n",
              "       [0.33333333, 0.58786242],\n",
              "       [0.33333333, 0.62965431],\n",
              "       [0.35897436, 0.        ],\n",
              "       [0.35897436, 0.13110669],\n",
              "       [0.35897436, 0.14760926],\n",
              "       [0.35897436, 0.1842056 ],\n",
              "       [0.35897436, 0.19186104],\n",
              "       [0.35897436, 0.26212078],\n",
              "       [0.35897436, 0.46707034],\n",
              "       [0.35897436, 0.49443909],\n",
              "       [0.35897436, 0.98325989],\n",
              "       [0.38461538, 0.00194858],\n",
              "       [0.38461538, 0.08159293],\n",
              "       [0.38461538, 0.18069291],\n",
              "       [0.38461538, 0.5175745 ],\n",
              "       [0.38461538, 0.6179004 ],\n",
              "       [0.41025641, 0.1938217 ],\n",
              "       [0.41025641, 0.31511099],\n",
              "       [0.41025641, 0.35138525],\n",
              "       [0.41025641, 0.51919899],\n",
              "       [0.41025641, 0.5375656 ],\n",
              "       [0.43589744, 0.        ],\n",
              "       [0.43589744, 0.1428928 ],\n",
              "       [0.43589744, 0.15645237],\n",
              "       [0.43589744, 0.40213901],\n",
              "       [0.43589744, 0.84784941],\n",
              "       [0.46153846, 0.        ],\n",
              "       [0.46153846, 0.01688706],\n",
              "       [0.46153846, 0.27926147],\n",
              "       [0.46153846, 0.94219067],\n",
              "       [0.48717949, 0.40089699],\n",
              "       [0.48717949, 0.58110477],\n",
              "       [0.51282051, 0.        ],\n",
              "       [0.51282051, 0.14469846],\n",
              "       [0.51282051, 0.15542171],\n",
              "       [0.51282051, 0.34177518],\n",
              "       [0.51282051, 0.36099531],\n",
              "       [0.51282051, 0.47841359],\n",
              "       [0.51282051, 0.76446894],\n",
              "       [0.53846154, 0.11912129],\n",
              "       [0.53846154, 0.13935999],\n",
              "       [0.53846154, 0.20150331],\n",
              "       [0.53846154, 0.41053926],\n",
              "       [0.53846154, 0.56211212],\n",
              "       [0.56410256, 0.        ],\n",
              "       [0.56410256, 0.        ],\n",
              "       [0.56410256, 0.06082279],\n",
              "       [0.56410256, 0.08730783],\n",
              "       [0.56410256, 0.4086088 ],\n",
              "       [0.56410256, 0.54189355],\n",
              "       [0.56410256, 0.72462765],\n",
              "       [0.58974359, 0.0233508 ],\n",
              "       [0.58974359, 0.02456061],\n",
              "       [0.58974359, 0.09865713],\n",
              "       [0.58974359, 0.25586236],\n",
              "       [0.58974359, 0.33618911],\n",
              "       [0.58974359, 0.58974054],\n",
              "       [0.61538462, 0.        ],\n",
              "       [0.61538462, 0.01820557],\n",
              "       [0.61538462, 0.04190865],\n",
              "       [0.61538462, 0.1276242 ],\n",
              "       [0.61538462, 0.5212603 ],\n",
              "       [0.61538462, 0.54850424],\n",
              "       [0.61538462, 0.84706032],\n",
              "       [0.61538462, 0.91333029],\n",
              "       [0.64102564, 0.55489954],\n",
              "       [0.64102564, 0.63549201],\n",
              "       [0.64102564, 0.80180808],\n",
              "       [0.66666667, 0.        ],\n",
              "       [0.66666667, 0.15576191],\n",
              "       [0.66666667, 0.18310248],\n",
              "       [0.66666667, 0.27592996],\n",
              "       [0.66666667, 0.3173736 ],\n",
              "       [0.66666667, 0.33859263],\n",
              "       [0.66666667, 0.34302123],\n",
              "       [0.66666667, 0.38686236],\n",
              "       [0.66666667, 0.42094849],\n",
              "       [0.66666667, 0.58263868],\n",
              "       [0.66666667, 0.77766214],\n",
              "       [0.69230769, 0.        ],\n",
              "       [0.69230769, 0.        ],\n",
              "       [0.69230769, 0.02250131],\n",
              "       [0.69230769, 0.11049357],\n",
              "       [0.69230769, 0.36288149],\n",
              "       [0.71794872, 0.04009292],\n",
              "       [0.71794872, 0.24613152],\n",
              "       [0.71794872, 0.36865477],\n",
              "       [0.71794872, 0.41930588],\n",
              "       [0.71794872, 0.6498447 ],\n",
              "       [0.71794872, 0.7260448 ],\n",
              "       [0.71794872, 0.74921443],\n",
              "       [0.71794872, 0.98495484],\n",
              "       [0.71794872, 1.        ],\n",
              "       [0.74358974, 0.09649718],\n",
              "       [0.74358974, 0.11829394],\n",
              "       [0.74358974, 0.27399144],\n",
              "       [0.74358974, 0.27564814],\n",
              "       [0.74358974, 0.30626385],\n",
              "       [0.74358974, 0.36214272],\n",
              "       [0.74358974, 0.36285129],\n",
              "       [0.74358974, 0.43263798],\n",
              "       [0.74358974, 0.89424101],\n",
              "       [0.76923077, 0.19786984],\n",
              "       [0.76923077, 0.34318026],\n",
              "       [0.76923077, 0.42691099],\n",
              "       [0.76923077, 0.64719358],\n",
              "       [0.79487179, 0.1878451 ],\n",
              "       [0.79487179, 0.28133687],\n",
              "       [0.79487179, 0.59716248],\n",
              "       [0.79487179, 0.61554922],\n",
              "       [0.79487179, 0.64292199],\n",
              "       [0.82051282, 0.        ],\n",
              "       [0.82051282, 0.06170247],\n",
              "       [0.82051282, 0.30497151],\n",
              "       [0.82051282, 0.46384753],\n",
              "       [0.82051282, 0.50160335],\n",
              "       [0.82051282, 0.63033671],\n",
              "       [0.82051282, 0.6333381 ],\n",
              "       [0.82051282, 0.68934982],\n",
              "       [0.84615385, 0.51139257],\n",
              "       [0.84615385, 0.56200543],\n",
              "       [0.84615385, 0.59694306],\n",
              "       [0.87179487, 0.        ],\n",
              "       [0.87179487, 0.48666891],\n",
              "       [0.8974359 , 0.06134617],\n",
              "       [0.8974359 , 0.57012587],\n",
              "       [0.92307692, 0.35380286],\n",
              "       [0.94871795, 0.        ],\n",
              "       [0.94871795, 0.85178885],\n",
              "       [0.94871795, 0.893311  ],\n",
              "       [0.97435897, 0.37298474],\n",
              "       [1.        , 0.65013658]])"
            ]
          },
          "metadata": {},
          "execution_count": 8
        }
      ],
      "source": [
        "#Con esto logramos que la edad y el monto de crédito se mantengan en la misma escala, entre 0 y 1\n",
        "X"
      ]
    },
    {
      "cell_type": "markdown",
      "metadata": {
        "id": "VYzl9ZWu_IKO"
      },
      "source": [
        "Creación del modelo"
      ]
    },
    {
      "cell_type": "code",
      "execution_count": 9,
      "metadata": {
        "colab": {
          "base_uri": "https://localhost:8080/"
        },
        "id": "3jQLuseP_IKR",
        "outputId": "715dae01-b76f-4aaa-fb96-d0f78c33e6a8"
      },
      "outputs": [
        {
          "output_type": "stream",
          "name": "stdout",
          "text": [
            "Train: (140, 2), (140,)\n",
            "Train: (60, 2), (60,)\n"
          ]
        }
      ],
      "source": [
        "from sklearn.model_selection import train_test_split\n",
        "#Divido el conjunto de datos en dos subconjuntos: uno para entrenar el modelo y otro para evaluar su rendimiento.\n",
        "\n",
        "X_train, X_test, y_train, y_test = train_test_split(X, y, test_size = 0.3, random_state = 42)\n",
        "\n",
        "print(f\"Train: {X_train.shape}, {y_train.shape}\")\n",
        "print(f\"Train: {X_test.shape}, {y_test.shape}\")"
      ]
    },
    {
      "cell_type": "code",
      "execution_count": 10,
      "metadata": {
        "id": "p6I3Ac4j_IKU",
        "colab": {
          "base_uri": "https://localhost:8080/"
        },
        "outputId": "fd114f21-0bec-495f-c645-1072e225592e"
      },
      "outputs": [
        {
          "output_type": "execute_result",
          "data": {
            "text/plain": [
              "array([1, 1, 1, 1, 1, 1, 1, 1, 1, 1, 1, 1, 1, 0, 1, 1, 1, 1, 1, 1, 1, 1,\n",
              "       1, 0, 1, 1, 1, 1, 1, 1, 1, 1, 1, 1, 1, 1, 1, 1, 1, 1, 1, 1, 1, 1,\n",
              "       1, 1, 1, 1, 1, 1, 1, 1, 0, 1, 1, 1, 1, 1, 1, 1])"
            ]
          },
          "metadata": {},
          "execution_count": 10
        }
      ],
      "source": [
        "#Estaleceré de manera empirica el numero de vecinos a 3\n",
        "clasificador = KNeighborsClassifier(n_neighbors=3)\n",
        "\n",
        "clasificador.fit(X_train, y_train)\n",
        "yhat = clasificador.predict(X_test)\n",
        "yhat\n"
      ]
    },
    {
      "cell_type": "markdown",
      "metadata": {
        "id": "7MFTsKL1_IKX"
      },
      "source": [
        "Metricas del modelo"
      ]
    },
    {
      "cell_type": "code",
      "execution_count": 11,
      "metadata": {
        "id": "UJ6yraTh_IKY"
      },
      "outputs": [],
      "source": [
        "#Importo las librerias para las métricas\n",
        "from sklearn.metrics import jaccard_score\n",
        "from sklearn.metrics import accuracy_score\n",
        "from sklearn.metrics import precision_score\n",
        "from sklearn.metrics import recall_score\n",
        "from sklearn.metrics import f1_score\n",
        "from sklearn.metrics import roc_auc_score\n",
        "\n",
        "from sklearn.metrics import confusion_matrix\n",
        "from sklearn.metrics import classification_report\n",
        "\n",
        "from sklearn.metrics import roc_curve\n",
        "from sklearn.metrics import auc"
      ]
    },
    {
      "cell_type": "code",
      "execution_count": 29,
      "metadata": {
        "colab": {
          "base_uri": "https://localhost:8080/"
        },
        "id": "0Qr7WEGH_IKZ",
        "outputId": "9e2e14b4-dbf7-4ea2-a92d-ba33598b5b99"
      },
      "outputs": [
        {
          "output_type": "stream",
          "name": "stdout",
          "text": [
            "Jaccard Index: 0.040377208515480864\n",
            "Exactitud: 0.15\n",
            "Precisión: 0.07844909893782075\n",
            "Sensibilidad: 0.0745020230314348\n",
            "F1-score: 0.07259689390124173\n"
          ]
        }
      ],
      "source": [
        "print(\"Jaccard Index:\", jaccard_score(y_test, yhat, average = \"macro\"))\n",
        "print(\"Exactitud:\"    , accuracy_score(y_test, yhat))\n",
        "print(\"Precisión:\"    , precision_score(y_test, yhat, average = \"macro\"))\n",
        "print(\"Sensibilidad:\" , recall_score(y_test, yhat, average = \"macro\"))\n",
        "print(\"F1-score:\"     , f1_score(y_test, yhat, average = \"macro\"))"
      ]
    },
    {
      "cell_type": "markdown",
      "metadata": {
        "id": "nb8iGxKU_IKc"
      },
      "source": [
        "    Jaccard Index: 0.6140350877192983\n",
        "        El índice de Jaccard mide la similitud entre dos conjuntos, en este caso, la predicción del modelo y las etiquetas reales. Un valor de 0.61 indica una buena superposición entre las predicciones y las etiquetas reales, pero puede haber margen para mejorar.\n",
        "\n",
        "    Exactitud (Accuracy): 0.9\n",
        "        La exactitud es la proporción de predicciones correctas entre todas las predicciones. Un valor de 0.9 indica que el 90% de las predicciones fueron correctas.\n",
        "\n",
        "    Precisión: 0.9473684210526316\n",
        "        La precisión es la proporción de verdaderos positivos entre la suma de verdaderos positivos y falsos positivos. En este caso, el 94.7% de las instancias clasificadas como positivas fueron realmente positivas.\n",
        "\n",
        "    Sensibilidad: 0.6666666666666666\n",
        "        También conocida como recall o tasa de verdaderos positivos, mide la proporción de instancias positivas que fueron correctamente clasificadas respecto al total de instancias positivas. Un valor de 0.67 indica que el modelo captura el 66.7% de todas las instancias positivas.\n",
        "\n",
        "    F1-score: 0.7222222222222222\n",
        "        El F1-score es la media armónica entre precisión y sensibilidad. Un valor de 0.72 sugiere un buen equilibrio entre precisión y sensibilidad.\n",
        "\n",
        "Interpretación General:\n",
        "\n",
        "    La alta exactitud indica un buen rendimiento general del modelo.\n",
        "    Una alta precisión significa que el modelo tiene una baja tasa de falsos positivos.\n",
        "    El F1-score proporciona una medida equilibrada entre precisión y sensibilidad.\n",
        "\n",
        " También puedo utilizar la matriz de confusión para obtener más detalles sobre el rendimiento del modelo."
      ]
    },
    {
      "cell_type": "code",
      "execution_count": 13,
      "metadata": {
        "colab": {
          "base_uri": "https://localhost:8080/"
        },
        "id": "pwnTORzI_IKd",
        "outputId": "3743d85c-20bd-43bf-eb70-9c9c69081faa"
      },
      "outputs": [
        {
          "output_type": "execute_result",
          "data": {
            "text/plain": [
              "array([[ 3,  6],\n",
              "       [ 0, 51]])"
            ]
          },
          "metadata": {},
          "execution_count": 13
        }
      ],
      "source": [
        "confusion_matrix(y_test, yhat)"
      ]
    },
    {
      "cell_type": "code",
      "execution_count": 14,
      "metadata": {
        "colab": {
          "base_uri": "https://localhost:8080/",
          "height": 430
        },
        "id": "CIJXxqPA_IKg",
        "outputId": "deebcdab-25cc-4cae-83c7-74091462cc59"
      },
      "outputs": [
        {
          "output_type": "display_data",
          "data": {
            "text/plain": [
              "<Figure size 640x480 with 2 Axes>"
            ],
            "image/png": "[encoded data removed]"
          },
          "metadata": {}
        }
      ],
      "source": [
        "sns.heatmap(confusion_matrix(y_test, yhat), annot=True);"
      ]
    },
    {
      "cell_type": "markdown",
      "metadata": {
        "id": "kurOD2V6_IKh"
      },
      "source": [
        "### Interpretación de la Matriz de Confusión:\n",
        "\n",
        "- **Verdaderos Positivos (TP):** 51 clientes fueron correctamente clasificados como \"pagarán\" (en la posición (2,2) o bottom-right).\n",
        "\n",
        "- **Falsos Positivos (FP):** 6 clientes fueron incorrectamente clasificados como \"pagarán\" cuando en realidad no lo hicieron (en la posición (1,2) o bottom-center).\n",
        "\n",
        "- **Verdaderos Negativos (TN):** 3 clientes fueron correctamente clasificados como \"no pagarán\" (en la posición (1,1) o top-left).\n",
        "\n",
        "- **Falsos Negativos (FN):** No hay falsos negativos en este caso (en la posición (2,1) o top-center).\n"
      ]
    },
    {
      "cell_type": "markdown",
      "metadata": {
        "id": "SgTHSuNd_IKh"
      },
      "source": [
        "Predicción"
      ]
    },
    {
      "cell_type": "code",
      "execution_count": 15,
      "metadata": {
        "colab": {
          "base_uri": "https://localhost:8080/",
          "height": 484
        },
        "id": "0RKyq12o_IKi",
        "outputId": "1996635b-a6f0-4883-8c8d-2e4d6894e882"
      },
      "outputs": [
        {
          "output_type": "stream",
          "name": "stdout",
          "text": [
            "Clase: [1]\n",
            "Probabilidades por clase [[0. 1.]]\n"
          ]
        },
        {
          "output_type": "display_data",
          "data": {
            "text/plain": [
              "<Figure size 640x480 with 1 Axes>"
            ],
            "image/png": "[encoded data removed]"
          },
          "metadata": {}
        }
      ],
      "source": [
        "#En un caso donde un cliente con una edad especifica solicite un monto,\n",
        "#¿se puede predecir si pagará el crédito?\n",
        "edad = 45\n",
        "monto = 250000\n",
        "\n",
        "#Escalar los datos del nuevo solicitante\n",
        "solicitante = escalador.transform([[edad, monto]])\n",
        "\n",
        "#Calcular clase y probabilidades\n",
        "print(\"Clase:\", clasificador.predict(solicitante))\n",
        "print(\"Probabilidades por clase\",\n",
        "      clasificador.predict_proba(solicitante))\n",
        "\n",
        "#Código para graficar\n",
        "plt.scatter(good_clients[\"edad\"], good_clients[\"credito\"],\n",
        "            marker=\"*\", s=150, color=\"skyblue\", label=\"Si pagó (Clase: 1)\")\n",
        "plt.scatter(bad_clients[\"edad\"], bad_clients[\"credito\"],\n",
        "            marker=\"*\", s=150, color=\"red\", label=\"No pagó (Clase: 0)\")\n",
        "plt.scatter(edad, monto, marker=\"P\", s=250, color=\"green\", label=\"Solicitante\")\n",
        "plt.ylabel(\"Monto del crédito\")\n",
        "plt.xlabel(\"Edad\")\n",
        "plt.legend(bbox_to_anchor=(1, 0.3))\n",
        "plt.show()"
      ]
    },
    {
      "cell_type": "markdown",
      "metadata": {
        "id": "WlY11NnY_IKj"
      },
      "source": [
        "Con los indicadores que le dimos al modelo ha predicho que el solicitante si va a pagar, en la gráfica se observa el punto donde se encuentra la predicción.\n"
      ]
    },
    {
      "cell_type": "markdown",
      "metadata": {
        "id": "IXdGA7sO_IKj"
      },
      "source": [
        "Otro Ejemplo: Base de datos de recomendación de Anime 2020 https://www.kaggle.com/datasets/hernan4444/anime-recommendation-database-2020?select=rating_complete.csv"
      ]
    },
    {
      "cell_type": "markdown",
      "metadata": {
        "id": "fhO0_aKd_IKk"
      },
      "source": [
        "CSV que contiene la lista de calificaciones dadas por el usuario a animes con watching_status==2(completa). Este conjunto de datos contiene 57 millones de calificaciones aplicadas a 16.872 animes por 310.059 usuarios."
      ]
    },
    {
      "cell_type": "code",
      "execution_count": 16,
      "metadata": {
        "id": "LlXV3jl2_IKm"
      },
      "outputs": [],
      "source": [
        "data = pd.read_csv(\"/content/rating_complete.csv\")\n"
      ]
    },
    {
      "cell_type": "markdown",
      "source": [
        "# Nueva sección"
      ],
      "metadata": {
        "id": "zY4SFkswBFky"
      }
    },
    {
      "cell_type": "code",
      "source": [
        "data.head()"
      ],
      "metadata": {
        "colab": {
          "base_uri": "https://localhost:8080/",
          "height": 206
        },
        "id": "D_Yeig4VejEm",
        "outputId": "563fae9b-59f7-402c-d1e4-63fd8a189882"
      },
      "execution_count": 17,
      "outputs": [
        {
          "output_type": "execute_result",
          "data": {
            "text/plain": [
              "   user_id  anime_id  rating\n",
              "0        0       430       9\n",
              "1        0      1004       5\n",
              "2        0      3010       7\n",
              "3        0       570       7\n",
              "4        0      2762       9"
            ],
            "text/html": [
              "\n",
              "  <div id=\"df-bef5e54b-8455-458c-b4e0-b2c4eded295e\" class=\"colab-df-container\">\n",
              "    <div>\n",
              "<style scoped>\n",
              "    .dataframe tbody tr th:only-of-type {\n",
              "        vertical-align: middle;\n",
              "    }\n",
              "\n",
              "    .dataframe tbody tr th {\n",
              "        vertical-align: top;\n",
              "    }\n",
              "\n",
              "    .dataframe thead th {\n",
              "        text-align: right;\n",
              "    }\n",
              "</style>\n",
              "<table border=\"1\" class=\"dataframe\">\n",
              "  <thead>\n",
              "    <tr style=\"text-align: right;\">\n",
              "      <th></th>\n",
              "      <th>user_id</th>\n",
              "      <th>anime_id</th>\n",
              "      <th>rating</th>\n",
              "    </tr>\n",
              "  </thead>\n",
              "  <tbody>\n",
              "    <tr>\n",
              "      <th>0</th>\n",
              "      <td>0</td>\n",
              "      <td>430</td>\n",
              "      <td>9</td>\n",
              "    </tr>\n",
              "    <tr>\n",
              "      <th>1</th>\n",
              "      <td>0</td>\n",
              "      <td>1004</td>\n",
              "      <td>5</td>\n",
              "    </tr>\n",
              "    <tr>\n",
              "      <th>2</th>\n",
              "      <td>0</td>\n",
              "      <td>3010</td>\n",
              "      <td>7</td>\n",
              "    </tr>\n",
              "    <tr>\n",
              "      <th>3</th>\n",
              "      <td>0</td>\n",
              "      <td>570</td>\n",
              "      <td>7</td>\n",
              "    </tr>\n",
              "    <tr>\n",
              "      <th>4</th>\n",
              "      <td>0</td>\n",
              "      <td>2762</td>\n",
              "      <td>9</td>\n",
              "    </tr>\n",
              "  </tbody>\n",
              "</table>\n",
              "</div>\n",
              "    <div class=\"colab-df-buttons\">\n",
              "\n",
              "  <div class=\"colab-df-container\">\n",
              "    <button class=\"colab-df-convert\" onclick=\"convertToInteractive('df-bef5e54b-8455-458c-b4e0-b2c4eded295e')\"\n",
              "            title=\"Convert this dataframe to an interactive table.\"\n",
              "            style=\"display:none;\">\n",
              "\n",
              "  <svg xmlns=\"http://www.w3.org/2000/svg\" height=\"24px\" viewBox=\"0 -960 960 960\">\n",
              "    <path d=\"M120-120v-720h720v720H120Zm60-500h600v-160H180v160Zm220 220h160v-160H400v160Zm0 220h160v-160H400v160ZM180-400h160v-160H180v160Zm440 0h160v-160H620v160ZM180-180h160v-160H180v160Zm440 0h160v-160H620v160Z\"/>\n",
              "  </svg>\n",
              "    </button>\n",
              "\n",
              "  <style>\n",
              "    .colab-df-container {\n",
              "      display:flex;\n",
              "      gap: 12px;\n",
              "    }\n",
              "\n",
              "    .colab-df-convert {\n",
              "      background-color: #E8F0FE;\n",
              "      border: none;\n",
              "      border-radius: 50%;\n",
              "      cursor: pointer;\n",
              "      display: none;\n",
              "      fill: #1967D2;\n",
              "      height: 32px;\n",
              "      padding: 0 0 0 0;\n",
              "      width: 32px;\n",
              "    }\n",
              "\n",
              "    .colab-df-convert:hover {\n",
              "      background-color: #E2EBFA;\n",
              "      box-shadow: 0px 1px 2px rgba(60, 64, 67, 0.3), 0px 1px 3px 1px rgba(60, 64, 67, 0.15);\n",
              "      fill: #174EA6;\n",
              "    }\n",
              "\n",
              "    .colab-df-buttons div {\n",
              "      margin-bottom: 4px;\n",
              "    }\n",
              "\n",
              "    [theme=dark] .colab-df-convert {\n",
              "      background-color: #3B4455;\n",
              "      fill: #D2E3FC;\n",
              "    }\n",
              "\n",
              "    [theme=dark] .colab-df-convert:hover {\n",
              "      background-color: #434B5C;\n",
              "      box-shadow: 0px 1px 3px 1px rgba(0, 0, 0, 0.15);\n",
              "      filter: drop-shadow(0px 1px 2px rgba(0, 0, 0, 0.3));\n",
              "      fill: #FFFFFF;\n",
              "    }\n",
              "  </style>\n",
              "\n",
              "    <script>\n",
              "      const buttonEl =\n",
              "        document.querySelector('#df-bef5e54b-8455-458c-b4e0-b2c4eded295e button.colab-df-convert');\n",
              "      buttonEl.style.display =\n",
              "        google.colab.kernel.accessAllowed ? 'block' : 'none';\n",
              "\n",
              "      async function convertToInteractive(key) {\n",
              "        const element = document.querySelector('#df-bef5e54b-8455-458c-b4e0-b2c4eded295e');\n",
              "        const dataTable =\n",
              "          await google.colab.kernel.invokeFunction('convertToInteractive',\n",
              "                                                    [key], {});\n",
              "        if (!dataTable) return;\n",
              "\n",
              "        const docLinkHtml = 'Like what you see? Visit the ' +\n",
              "          '<a target=\"_blank\" href=https://colab.research.google.com/notebooks/data_table.ipynb>data table notebook</a>'\n",
              "          + ' to learn more about interactive tables.';\n",
              "        element.innerHTML = '';\n",
              "        dataTable['output_type'] = 'display_data';\n",
              "        await google.colab.output.renderOutput(dataTable, element);\n",
              "        const docLink = document.createElement('div');\n",
              "        docLink.innerHTML = docLinkHtml;\n",
              "        element.appendChild(docLink);\n",
              "      }\n",
              "    </script>\n",
              "  </div>\n",
              "\n",
              "\n",
              "<div id=\"df-b5ba0636-05a0-4e7f-ac17-be86b098e7bc\">\n",
              "  <button class=\"colab-df-quickchart\" onclick=\"quickchart('df-b5ba0636-05a0-4e7f-ac17-be86b098e7bc')\"\n",
              "            title=\"Suggest charts\"\n",
              "            style=\"display:none;\">\n",
              "\n",
              "<svg xmlns=\"http://www.w3.org/2000/svg\" height=\"24px\"viewBox=\"0 0 24 24\"\n",
              "     width=\"24px\">\n",
              "    <g>\n",
              "        <path d=\"M19 3H5c-1.1 0-2 .9-2 2v14c0 1.1.9 2 2 2h14c1.1 0 2-.9 2-2V5c0-1.1-.9-2-2-2zM9 17H7v-7h2v7zm4 0h-2V7h2v10zm4 0h-2v-4h2v4z\"/>\n",
              "    </g>\n",
              "</svg>\n",
              "  </button>\n",
              "\n",
              "<style>\n",
              "  .colab-df-quickchart {\n",
              "      --bg-color: #E8F0FE;\n",
              "      --fill-color: #1967D2;\n",
              "      --hover-bg-color: #E2EBFA;\n",
              "      --hover-fill-color: #174EA6;\n",
              "      --disabled-fill-color: #AAA;\n",
              "      --disabled-bg-color: #DDD;\n",
              "  }\n",
              "\n",
              "  [theme=dark] .colab-df-quickchart {\n",
              "      --bg-color: #3B4455;\n",
              "      --fill-color: #D2E3FC;\n",
              "      --hover-bg-color: #434B5C;\n",
              "      --hover-fill-color: #FFFFFF;\n",
              "      --disabled-bg-color: #3B4455;\n",
              "      --disabled-fill-color: #666;\n",
              "  }\n",
              "\n",
              "  .colab-df-quickchart {\n",
              "    background-color: var(--bg-color);\n",
              "    border: none;\n",
              "    border-radius: 50%;\n",
              "    cursor: pointer;\n",
              "    display: none;\n",
              "    fill: var(--fill-color);\n",
              "    height: 32px;\n",
              "    padding: 0;\n",
              "    width: 32px;\n",
              "  }\n",
              "\n",
              "  .colab-df-quickchart:hover {\n",
              "    background-color: var(--hover-bg-color);\n",
              "    box-shadow: 0 1px 2px rgba(60, 64, 67, 0.3), 0 1px 3px 1px rgba(60, 64, 67, 0.15);\n",
              "    fill: var(--button-hover-fill-color);\n",
              "  }\n",
              "\n",
              "  .colab-df-quickchart-complete:disabled,\n",
              "  .colab-df-quickchart-complete:disabled:hover {\n",
              "    background-color: var(--disabled-bg-color);\n",
              "    fill: var(--disabled-fill-color);\n",
              "    box-shadow: none;\n",
              "  }\n",
              "\n",
              "  .colab-df-spinner {\n",
              "    border: 2px solid var(--fill-color);\n",
              "    border-color: transparent;\n",
              "    border-bottom-color: var(--fill-color);\n",
              "    animation:\n",
              "      spin 1s steps(1) infinite;\n",
              "  }\n",
              "\n",
              "  @keyframes spin {\n",
              "    0% {\n",
              "      border-color: transparent;\n",
              "      border-bottom-color: var(--fill-color);\n",
              "      border-left-color: var(--fill-color);\n",
              "    }\n",
              "    20% {\n",
              "      border-color: transparent;\n",
              "      border-left-color: var(--fill-color);\n",
              "      border-top-color: var(--fill-color);\n",
              "    }\n",
              "    30% {\n",
              "      border-color: transparent;\n",
              "      border-left-color: var(--fill-color);\n",
              "      border-top-color: var(--fill-color);\n",
              "      border-right-color: var(--fill-color);\n",
              "    }\n",
              "    40% {\n",
              "      border-color: transparent;\n",
              "      border-right-color: var(--fill-color);\n",
              "      border-top-color: var(--fill-color);\n",
              "    }\n",
              "    60% {\n",
              "      border-color: transparent;\n",
              "      border-right-color: var(--fill-color);\n",
              "    }\n",
              "    80% {\n",
              "      border-color: transparent;\n",
              "      border-right-color: var(--fill-color);\n",
              "      border-bottom-color: var(--fill-color);\n",
              "    }\n",
              "    90% {\n",
              "      border-color: transparent;\n",
              "      border-bottom-color: var(--fill-color);\n",
              "    }\n",
              "  }\n",
              "</style>\n",
              "\n",
              "  <script>\n",
              "    async function quickchart(key) {\n",
              "      const quickchartButtonEl =\n",
              "        document.querySelector('#' + key + ' button');\n",
              "      quickchartButtonEl.disabled = true;  // To prevent multiple clicks.\n",
              "      quickchartButtonEl.classList.add('colab-df-spinner');\n",
              "      try {\n",
              "        const charts = await google.colab.kernel.invokeFunction(\n",
              "            'suggestCharts', [key], {});\n",
              "      } catch (error) {\n",
              "        console.error('Error during call to suggestCharts:', error);\n",
              "      }\n",
              "      quickchartButtonEl.classList.remove('colab-df-spinner');\n",
              "      quickchartButtonEl.classList.add('colab-df-quickchart-complete');\n",
              "    }\n",
              "    (() => {\n",
              "      let quickchartButtonEl =\n",
              "        document.querySelector('#df-b5ba0636-05a0-4e7f-ac17-be86b098e7bc button');\n",
              "      quickchartButtonEl.style.display =\n",
              "        google.colab.kernel.accessAllowed ? 'block' : 'none';\n",
              "    })();\n",
              "  </script>\n",
              "</div>\n",
              "    </div>\n",
              "  </div>\n"
            ]
          },
          "metadata": {},
          "execution_count": 17
        }
      ]
    },
    {
      "cell_type": "code",
      "execution_count": 18,
      "metadata": {
        "colab": {
          "base_uri": "https://localhost:8080/"
        },
        "id": "B-lt2cqV_IKn",
        "outputId": "e2fbcebd-050a-40a8-b4d4-1ba7659cbaaf"
      },
      "outputs": [
        {
          "output_type": "stream",
          "name": "stdout",
          "text": [
            "<class 'pandas.core.frame.DataFrame'>\n",
            "RangeIndex: 57633278 entries, 0 to 57633277\n",
            "Data columns (total 3 columns):\n",
            " #   Column    Dtype\n",
            "---  ------    -----\n",
            " 0   user_id   int64\n",
            " 1   anime_id  int64\n",
            " 2   rating    int64\n",
            "dtypes: int64(3)\n",
            "memory usage: 1.3 GB\n"
          ]
        }
      ],
      "source": [
        "data.info()"
      ]
    },
    {
      "cell_type": "code",
      "execution_count": 19,
      "metadata": {
        "id": "NuM03eIY_IKo",
        "colab": {
          "base_uri": "https://localhost:8080/"
        },
        "outputId": "f71fad4d-0ee9-49b7-c78f-367d25180576"
      },
      "outputs": [
        {
          "output_type": "execute_result",
          "data": {
            "text/plain": [
              "user_id     57633278\n",
              "anime_id    57633278\n",
              "rating      57633278\n",
              "dtype: int64"
            ]
          },
          "metadata": {},
          "execution_count": 19
        }
      ],
      "source": [
        "data.count()"
      ]
    },
    {
      "cell_type": "code",
      "source": [
        "animes = data.sample(n=1000, random_state=42)\n",
        "\n",
        "# Verificar las dimensiones del nuevo DataFrame\n",
        "print(\"Dimensiones del DataFrame reducido:\", data.shape)"
      ],
      "metadata": {
        "colab": {
          "base_uri": "https://localhost:8080/"
        },
        "id": "9L8pNiUt_iNK",
        "outputId": "b65e7ca9-9e01-425b-ec7f-4513b3cc6f57"
      },
      "execution_count": 22,
      "outputs": [
        {
          "output_type": "stream",
          "name": "stdout",
          "text": [
            "Dimensiones del DataFrame reducido: (57633278, 3)\n"
          ]
        }
      ]
    },
    {
      "cell_type": "code",
      "execution_count": 24,
      "metadata": {
        "id": "x10RxN21_IKq",
        "colab": {
          "base_uri": "https://localhost:8080/"
        },
        "outputId": "e708a54f-09c5-4522-cef1-f1cc2e084fd9"
      },
      "outputs": [
        {
          "output_type": "execute_result",
          "data": {
            "text/plain": [
              "array([ 7,  4,  5,  9,  6,  8, 10,  3,  2,  1])"
            ]
          },
          "metadata": {},
          "execution_count": 24
        }
      ],
      "source": [
        "animes[\"rating\"].unique()"
      ]
    },
    {
      "cell_type": "code",
      "source": [
        "animes[\"rating\"].fillna(0,inplace=True)"
      ],
      "metadata": {
        "id": "LDcPuD1VhRT6"
      },
      "execution_count": 25,
      "outputs": []
    },
    {
      "cell_type": "code",
      "source": [
        "\n",
        "# Dividir los datos en conjuntos de entrenamiento y prueba\n",
        "X_train, X_test, y_train, y_test = train_test_split(animes.drop('rating', axis=1), animes['rating'], test_size=0.2, random_state=42)\n",
        "\n",
        "# Visualizar las dimensiones de los conjuntos de entrenamiento y prueba\n",
        "print(\"Dimensiones del conjunto de entrenamiento (X_train):\", X_train.shape)\n",
        "print(\"Dimensiones del conjunto de prueba (X_test):\", X_test.shape)\n",
        "print(\"Dimensiones de las etiquetas de entrenamiento (y_train):\", y_train.shape)\n",
        "print(\"Dimensiones de las etiquetas de prueba (y_test):\", y_test.shape)\n"
      ],
      "metadata": {
        "colab": {
          "base_uri": "https://localhost:8080/"
        },
        "id": "vwX9chrwdL-j",
        "outputId": "e0776f5b-37c2-4165-e1bd-af8ec0a36199"
      },
      "execution_count": 26,
      "outputs": [
        {
          "output_type": "stream",
          "name": "stdout",
          "text": [
            "Dimensiones del conjunto de entrenamiento (X_train): (800, 2)\n",
            "Dimensiones del conjunto de prueba (X_test): (200, 2)\n",
            "Dimensiones de las etiquetas de entrenamiento (y_train): (800,)\n",
            "Dimensiones de las etiquetas de prueba (y_test): (200,)\n"
          ]
        }
      ]
    },
    {
      "cell_type": "code",
      "source": [
        "#Normalizacion de los datos\n",
        "scaler = MinMaxScaler()\n",
        "\n",
        "X_train_normalized = pd.DataFrame(scaler.fit_transform(X_train), columns=X_train.columns, index=X_train.index)\n",
        "\n",
        "# Aplicar la transformación de escala al conjunto de prueba\n",
        "X_test_normalized = pd.DataFrame(scaler.transform(X_test), columns=X_test.columns, index=X_test.index)\n",
        "\n",
        "# Visualizar las dimensiones de los conjuntos de entrenamiento y prueba normalizados\n",
        "print(\"Dimensiones del conjunto de entrenamiento normalizado:\", X_train_normalized.shape)\n",
        "print(\"Dimensiones del conjunto de prueba normalizado:\", X_test_normalized.shape)\n"
      ],
      "metadata": {
        "colab": {
          "base_uri": "https://localhost:8080/"
        },
        "id": "kxxGLquReugN",
        "outputId": "db58512a-d713-413f-984d-2072e4918128"
      },
      "execution_count": 27,
      "outputs": [
        {
          "output_type": "stream",
          "name": "stdout",
          "text": [
            "Dimensiones del conjunto de entrenamiento normalizado: (800, 2)\n",
            "Dimensiones del conjunto de prueba normalizado: (200, 2)\n"
          ]
        }
      ]
    },
    {
      "cell_type": "code",
      "source": [
        "clasificador = KNeighborsClassifier(n_neighbors=3)\n",
        "\n",
        "clasificador.fit(X_train, y_train)\n",
        "yhat = clasificador.predict(X_test)\n",
        "yhat"
      ],
      "metadata": {
        "id": "bdt_U0HrgnOf",
        "colab": {
          "base_uri": "https://localhost:8080/"
        },
        "outputId": "f12c3d7e-9a83-40d2-b018-a14074893a81"
      },
      "execution_count": 28,
      "outputs": [
        {
          "output_type": "execute_result",
          "data": {
            "text/plain": [
              "array([ 4,  8,  7,  6,  8,  9,  5,  4,  8,  5,  6,  6,  3, 10,  8,  7,  6,\n",
              "        3,  7,  6,  7,  9,  8,  4,  7,  6,  7,  6,  5,  4,  1,  5,  6,  7,\n",
              "        7,  7,  8,  4,  8,  5,  6,  6,  8,  3,  7,  8,  6,  6,  8,  7,  6,\n",
              "        7,  6,  6,  8, 10,  7,  5,  7,  7,  6,  6,  7,  8,  6,  6,  6,  8,\n",
              "        3,  8,  7,  5,  9, 10,  5,  9,  8,  4,  7,  6,  7,  6,  5,  8,  6,\n",
              "        7,  7,  6,  6,  6,  7,  8,  9,  8,  6,  6, 10,  3,  7,  4,  3,  7,\n",
              "        8,  6,  7,  9,  6, 10,  8,  8,  3,  6,  6,  5,  9,  8,  5,  7,  9,\n",
              "        7,  7,  7,  6,  6,  6,  7,  8,  7,  7,  8,  5,  6,  7,  7,  8,  8,\n",
              "        7,  7, 10,  4,  6,  6,  5,  8,  6,  9,  9,  7,  5,  9,  9,  9,  5,\n",
              "        5, 10,  7,  7,  6,  8,  8,  8,  6,  7,  5,  7,  9,  6,  7,  8,  4,\n",
              "        7,  7,  5,  7,  5,  1,  8,  1,  6,  7,  7, 10,  6,  6,  9,  6,  6,\n",
              "        6,  3,  7,  6,  3, 10,  8,  8,  8,  7,  8,  6,  4])"
            ]
          },
          "metadata": {},
          "execution_count": 28
        }
      ]
    },
    {
      "cell_type": "code",
      "source": [
        "print(\"Jaccard Index:\", jaccard_score(y_test, yhat, average = \"macro\"))\n",
        "print(\"Exactitud:\"    , accuracy_score(y_test, yhat))\n",
        "print(\"Precisión:\"    , precision_score(y_test, yhat, average = \"macro\"))\n",
        "print(\"Sensibilidad:\" , recall_score(y_test, yhat, average = \"macro\"))\n",
        "print(\"F1-score:\"     , f1_score(y_test, yhat, average = \"macro\"))"
      ],
      "metadata": {
        "id": "ITQmttbZgVOZ",
        "colab": {
          "base_uri": "https://localhost:8080/"
        },
        "outputId": "d81d9f34-da4d-41bb-f5ad-3bce81f17501"
      },
      "execution_count": 30,
      "outputs": [
        {
          "output_type": "stream",
          "name": "stdout",
          "text": [
            "Jaccard Index: 0.040377208515480864\n",
            "Exactitud: 0.15\n",
            "Precisión: 0.07844909893782075\n",
            "Sensibilidad: 0.0745020230314348\n",
            "F1-score: 0.07259689390124173\n"
          ]
        }
      ]
    },
    {
      "cell_type": "code",
      "source": [],
      "metadata": {
        "id": "GKIRG6OJALzE"
      },
      "execution_count": null,
      "outputs": []
    }
  ],
  "metadata": {
    "kernelspec": {
      "display_name": "Python 3",
      "language": "python",
      "name": "python3"
    },
    "language_info": {
      "codemirror_mode": {
        "name": "ipython",
        "version": 3
      },
      "file_extension": ".py",
      "mimetype": "text/x-python",
      "name": "python",
      "nbconvert_exporter": "python",
      "pygments_lexer": "ipython3",
      "version": "3.10.12"
    },
    "colab": {
      "provenance": []
    }
  },
  "nbformat": 4,
  "nbformat_minor": 0
}