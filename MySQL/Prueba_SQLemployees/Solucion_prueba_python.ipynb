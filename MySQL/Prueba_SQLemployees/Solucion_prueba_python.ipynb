{
 "cells": [
  {
   "cell_type": "markdown",
   "id": "f3bdc327",
   "metadata": {},
   "source": [
    "**Solución ejercicios base de datos employees en SQL en Python**\n",
    "\n",
    "\n",
    "por Sibyl González\n",
    "\n",
    "email: sibylgonzalez@gmail.com"
   ]
  },
  {
   "cell_type": "code",
   "execution_count": 1,
   "id": "8d375568",
   "metadata": {},
   "outputs": [],
   "source": [
    "import pandas as pd\n",
    "import numpy as np\n",
    "import mysql.connector as conn\n",
    "from sqlalchemy import create_engine \n"
   ]
  },
  {
   "cell_type": "code",
   "execution_count": 2,
   "id": "39894c40",
   "metadata": {},
   "outputs": [],
   "source": [
    "# Conexión a la base de datos: usuario y contraseña de workbench.\n",
    "db_conect=conn.connect(host='localhost', user='*******', passwd='*********', database='employees')"
   ]
  },
  {
   "cell_type": "code",
   "execution_count": null,
   "id": "5564bf55",
   "metadata": {},
   "outputs": [],
   "source": [
    "cursor=db_conect.cursor() # cursor para conectarse a la base de datos"
   ]
  },
  {
   "cell_type": "code",
   "execution_count": null,
   "id": "a506e2f4",
   "metadata": {},
   "outputs": [],
   "source": [
    "# Prueba para ver si estamos conectados a la base de datos correcta.\n",
    "cursor.execute('show tables;')\n",
    "\n",
    "for x in cursor:\n",
    "    print(x)"
   ]
  },
  {
   "cell_type": "markdown",
   "id": "127f376f",
   "metadata": {},
   "source": [
    "# Ejercicio 1.\n",
    "\n",
    "    Obtener la cantidad de empleados por género de cada departamento."
   ]
  },
  {
   "cell_type": "code",
   "execution_count": null,
   "id": "4b5f5775",
   "metadata": {},
   "outputs": [],
   "source": [
    "gender_employees_per_department = pd.read_sql('''\n",
    "SELECT DISTINCT\n",
    "    d.dept_name AS departments,\n",
    "    COUNT(CASE WHEN e.gender = 'M' THEN 1 END) AS male,\n",
    "    COUNT(CASE WHEN e.gender = 'F' THEN 1 END) AS female\n",
    "FROM\n",
    "    departments d\n",
    "JOIN\n",
    "    dept_emp de ON d.dept_no = de.dept_no\n",
    "JOIN\n",
    "    employees e ON de.emp_no = e.emp_no\n",
    "GROUP BY\n",
    "    d.dept_name\n",
    "\n",
    "    ;\n",
    "    ''', con=db_conect)\n",
    "gender_employees_per_department"
   ]
  },
  {
   "cell_type": "markdown",
   "id": "69c14e95",
   "metadata": {},
   "source": [
    "# Ejercicio 2\n",
    "\n",
    "    Obtén los nombres de los managers activos y el de su predecesor por cada\n",
    "    departamento."
   ]
  },
  {
   "cell_type": "code",
   "execution_count": null,
   "id": "ae019611",
   "metadata": {},
   "outputs": [],
   "source": [
    "deparment_managers = pd.read_sql('''\n",
    "Select Deparment, Manager, Previous_Manager from\n",
    "(SELECT d.dept_name AS department,CONCAT(m.first_name, ' ', m.last_name) AS current_manager,\n",
    "CONCAT(p.first_name, ' ', p.last_name) AS predecessor_manager\n",
    "FROM\n",
    "    departments d\n",
    "JOIN\n",
    "    dept_manager dm ON d.dept_no = dm.dept_no\n",
    "JOIN\n",
    "    employees m ON dm.emp_no = m.emp_no\n",
    "LEFT JOIN\n",
    "    dept_manager dp ON dm.dept_no = dp.dept_no AND dm.to_date = dp.from_date\n",
    "LEFT JOIN\n",
    "    employees p ON dp.emp_no = p.emp_no\n",
    "WHERE\n",
    "    dm.to_date = '9999-01-01'\n",
    "\n",
    ";\n",
    "\n",
    "    ''', con=db_conect)\n",
    "deparment_managers"
   ]
  },
  {
   "cell_type": "markdown",
   "id": "e2acab6d",
   "metadata": {},
   "source": [
    "# Ejercicio 3\n",
    "\n",
    "    Obtén la cantidad de empleados que tiene cada manager."
   ]
  },
  {
   "cell_type": "code",
   "execution_count": null,
   "id": "06a9108c",
   "metadata": {},
   "outputs": [],
   "source": [
    "employees_per_manager = pd.read_sql('''\n",
    "   SELECT\n",
    "    CONCAT(m.first_name, ' ', m.last_name) AS manager,\n",
    "    COUNT(e.emp_no) AS employee_count\n",
    "FROM\n",
    "    employees e\n",
    "JOIN\n",
    "    dept_manager dm ON e.emp_no = dm.emp_no\n",
    "JOIN\n",
    "    employees m ON dm.emp_no = m.emp_no\n",
    "GROUP BY\n",
    "    manager\n",
    "\n",
    "\n",
    "\n",
    "    ;\n",
    "\n",
    "    ''',  con=db_conect)\n",
    "employees_per_manager"
   ]
  },
  {
   "cell_type": "markdown",
   "id": "d384f04a",
   "metadata": {},
   "source": [
    "# Ejercicio 4\n",
    "\n",
    "    Obtén un listado de los empleados con mayor ingreso y con el menor ingreso por\n",
    "    cada departamento.\n",
    "    department | employee_max_salary | e_max_salary | employe_min_salary | e_min_salary"
   ]
  },
  {
   "cell_type": "code",
   "execution_count": null,
   "id": "34f2ed34",
   "metadata": {},
   "outputs": [],
   "source": [
    "max_and_min_salary_per_department= pd.read_sql('''\n",
    "  WITH RankedSalaries AS (\n",
    "    SELECT\n",
    "        e.emp_no,\n",
    "        e.first_name,\n",
    "        e.last_name,\n",
    "        d.dept_name AS department,\n",
    "        s.salary,\n",
    "        ROW_NUMBER() OVER (PARTITION BY d.dept_name ORDER BY s.salary DESC) AS SalaryRankDesc,\n",
    "        ROW_NUMBER() OVER (PARTITION BY d.dept_name ORDER BY s.salary ASC) AS SalaryRankAsc\n",
    "    FROM\n",
    "        employees e\n",
    "    JOIN\n",
    "        dept_emp de ON e.emp_no = de.emp_no\n",
    "    JOIN\n",
    "        departments d ON de.dept_no = d.dept_no\n",
    "    JOIN\n",
    "        salaries s ON e.emp_no = s.emp_no\n",
    ")\n",
    "SELECT\n",
    "    emp_no,\n",
    "    first_name,\n",
    "    last_name,\n",
    "    department,\n",
    "    salary\n",
    "FROM\n",
    "    RankedSalaries\n",
    "WHERE\n",
    "    SalaryRankDesc <= 10 OR SalaryRankAsc <= 10;\n",
    "\n",
    "''', con= db_conect)\n",
    "max_and_min_salary_per_department"
   ]
  },
  {
   "cell_type": "markdown",
   "id": "0b477ee8",
   "metadata": {},
   "source": [
    "# Ejercicio 5\n",
    "\n",
    "    Obtén un listado de todos los cargos con la cantidad de empleados y a su vez\n",
    "    mostrar el empleado más antiguo y el más nuevo.\n",
    "    titles | employees | former_employee | new_employee"
   ]
  },
  {
   "cell_type": "code",
   "execution_count": null,
   "id": "02819bb6",
   "metadata": {},
   "outputs": [],
   "source": [
    "\n",
    "older_and_new_employee = pd.read_sql(''' \n",
    "    WITH RankedEmployees AS (\n",
    "    SELECT\n",
    "        t.title AS Title,\n",
    "        e.emp_no,\n",
    "        RANK() OVER (PARTITION BY t.title ORDER BY e.hire_date ASC) AS HireRankAsc,\n",
    "        RANK() OVER (PARTITION BY t.title ORDER BY e.hire_date DESC) AS HireRankDesc\n",
    "    FROM\n",
    "        titles t\n",
    "    JOIN\n",
    "        employees e ON t.emp_no = e.emp_no\n",
    ")\n",
    "\n",
    "SELECT\n",
    "    re.Title,\n",
    "    COUNT(DISTINCT re.emp_no) AS Employees,\n",
    "    MIN(CASE WHEN HireRankAsc = 1 THEN re.emp_no END) AS former_Employee,\n",
    "    MAX(CASE WHEN HireRankDesc = 1 THEN re.emp_no END) AS new_Employee\n",
    "FROM\n",
    "    RankedEmployees re\n",
    "GROUP BY\n",
    "    re.Title\n",
    "ORDER BY\n",
    "    Employees DESC\n",
    "\n",
    "    ;\n",
    "    '''\n",
    "    , con=db_conect)\n",
    "older_and_new_employee"
   ]
  }
 ],
 "metadata": {
  "kernelspec": {
   "display_name": "Python 3 (ipykernel)",
   "language": "python",
   "name": "python3"
  },
  "language_info": {
   "codemirror_mode": {
    "name": "ipython",
    "version": 3
   },
   "file_extension": ".py",
   "mimetype": "text/x-python",
   "name": "python",
   "nbconvert_exporter": "python",
   "pygments_lexer": "ipython3",
   "version": "3.8.11"
  }
 },
 "nbformat": 4,
 "nbformat_minor": 5
}
